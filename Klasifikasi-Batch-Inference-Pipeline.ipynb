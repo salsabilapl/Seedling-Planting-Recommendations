{
 "cells": [
  {
   "cell_type": "code",
   "execution_count": 1,
   "id": "3f4e00c6",
   "metadata": {},
   "outputs": [
    {
     "name": "stdout",
     "output_type": "stream",
     "text": [
      "Connected. Call `.close()` to terminate connection gracefully.\n",
      "\n",
      "Logged in to project, explore it here https://c.app.hopsworks.ai:443/p/20697\n"
     ]
    },
    {
     "name": "stderr",
     "output_type": "stream",
     "text": [
      "DeprecationWarning: the imp module is deprecated in favour of importlib; see the module's documentation for alternative uses\n"
     ]
    },
    {
     "name": "stdout",
     "output_type": "stream",
     "text": [
      "Connected. Call `.close()` to terminate connection gracefully.\n"
     ]
    }
   ],
   "source": [
    "import pandas as pd\n",
    "import hopsworks\n",
    "import joblib\n",
    "import os\n",
    "os.environ['CONDA_DLL_SEARCH_MODIFICATION_ENABLE'] = '1' #setting the env variable\n",
    "\n",
    "project = hopsworks.login()\n",
    "fs = project.get_feature_store()"
   ]
  },
  {
   "cell_type": "code",
   "execution_count": 2,
   "id": "318123c6",
   "metadata": {},
   "outputs": [
    {
     "name": "stdout",
     "output_type": "stream",
     "text": [
      "Connected. Call `.close()` to terminate connection gracefully.\n",
      "Downloading file ... "
     ]
    }
   ],
   "source": [
    "mr = project.get_model_registry()\n",
    "model = mr.get_model(\"agriculture_1\", version=1)\n",
    "model_dir = model.download()\n",
    "model = joblib.load(model_dir + \"/agriculture_model.pkl\")"
   ]
  },
  {
   "cell_type": "code",
   "execution_count": 3,
   "id": "7a9afd7f",
   "metadata": {},
   "outputs": [],
   "source": [
    "feature_view = fs.get_feature_view(name=\"agriculture\", version=1)"
   ]
  },
  {
   "cell_type": "code",
   "execution_count": 4,
   "id": "3d04fa72",
   "metadata": {},
   "outputs": [
    {
     "name": "stderr",
     "output_type": "stream",
     "text": [
      "VersionWarning: No training dataset version was provided to initialise batch scoring . Defaulting to version 1.\n"
     ]
    },
    {
     "name": "stdout",
     "output_type": "stream",
     "text": [
      "2023-06-21 14:33:37,852 INFO: USE `salsa_coe_featurestore`\n"
     ]
    },
    {
     "name": "stderr",
     "output_type": "stream",
     "text": [
      "UserWarning: pandas only support SQLAlchemy connectable(engine/connection) ordatabase string URI or sqlite3 DBAPI2 connectionother DBAPI2 objects are not tested, please consider using SQLAlchemy\n"
     ]
    },
    {
     "name": "stdout",
     "output_type": "stream",
     "text": [
      "2023-06-21 14:33:38,593 INFO: SELECT `fg0`.`n` `n`, `fg0`.`p` `p`, `fg0`.`k` `k`, `fg0`.`temperature` `temperature`, `fg0`.`humidity` `humidity`, `fg0`.`ph` `ph`, `fg0`.`rainfall` `rainfall`\n",
      "FROM `salsa_coe_featurestore`.`agriculture_1` `fg0`\n"
     ]
    },
    {
     "data": {
      "text/html": [
       "<div>\n",
       "<style scoped>\n",
       "    .dataframe tbody tr th:only-of-type {\n",
       "        vertical-align: middle;\n",
       "    }\n",
       "\n",
       "    .dataframe tbody tr th {\n",
       "        vertical-align: top;\n",
       "    }\n",
       "\n",
       "    .dataframe thead th {\n",
       "        text-align: right;\n",
       "    }\n",
       "</style>\n",
       "<table border=\"1\" class=\"dataframe\">\n",
       "  <thead>\n",
       "    <tr style=\"text-align: right;\">\n",
       "      <th></th>\n",
       "      <th>n</th>\n",
       "      <th>p</th>\n",
       "      <th>k</th>\n",
       "      <th>temperature</th>\n",
       "      <th>humidity</th>\n",
       "      <th>ph</th>\n",
       "      <th>rainfall</th>\n",
       "    </tr>\n",
       "  </thead>\n",
       "  <tbody>\n",
       "    <tr>\n",
       "      <th>0</th>\n",
       "      <td>26</td>\n",
       "      <td>51</td>\n",
       "      <td>25</td>\n",
       "      <td>28.764890</td>\n",
       "      <td>52.627415</td>\n",
       "      <td>7.792508</td>\n",
       "      <td>55.216067</td>\n",
       "    </tr>\n",
       "    <tr>\n",
       "      <th>1</th>\n",
       "      <td>4</td>\n",
       "      <td>59</td>\n",
       "      <td>25</td>\n",
       "      <td>27.685151</td>\n",
       "      <td>81.942686</td>\n",
       "      <td>6.227134</td>\n",
       "      <td>54.622433</td>\n",
       "    </tr>\n",
       "    <tr>\n",
       "      <th>2</th>\n",
       "      <td>59</td>\n",
       "      <td>62</td>\n",
       "      <td>83</td>\n",
       "      <td>18.576659</td>\n",
       "      <td>19.220082</td>\n",
       "      <td>8.104396</td>\n",
       "      <td>72.949404</td>\n",
       "    </tr>\n",
       "    <tr>\n",
       "      <th>3</th>\n",
       "      <td>76</td>\n",
       "      <td>44</td>\n",
       "      <td>17</td>\n",
       "      <td>20.416831</td>\n",
       "      <td>62.554248</td>\n",
       "      <td>5.855442</td>\n",
       "      <td>65.277985</td>\n",
       "    </tr>\n",
       "    <tr>\n",
       "      <th>4</th>\n",
       "      <td>47</td>\n",
       "      <td>63</td>\n",
       "      <td>16</td>\n",
       "      <td>27.440033</td>\n",
       "      <td>67.104644</td>\n",
       "      <td>6.661871</td>\n",
       "      <td>72.506698</td>\n",
       "    </tr>\n",
       "    <tr>\n",
       "      <th>...</th>\n",
       "      <td>...</td>\n",
       "      <td>...</td>\n",
       "      <td>...</td>\n",
       "      <td>...</td>\n",
       "      <td>...</td>\n",
       "      <td>...</td>\n",
       "      <td>...</td>\n",
       "    </tr>\n",
       "    <tr>\n",
       "      <th>1195</th>\n",
       "      <td>60</td>\n",
       "      <td>49</td>\n",
       "      <td>44</td>\n",
       "      <td>20.775761</td>\n",
       "      <td>84.497744</td>\n",
       "      <td>6.244841</td>\n",
       "      <td>240.081065</td>\n",
       "    </tr>\n",
       "    <tr>\n",
       "      <th>1196</th>\n",
       "      <td>80</td>\n",
       "      <td>18</td>\n",
       "      <td>51</td>\n",
       "      <td>28.053807</td>\n",
       "      <td>91.817588</td>\n",
       "      <td>6.706053</td>\n",
       "      <td>20.765821</td>\n",
       "    </tr>\n",
       "    <tr>\n",
       "      <th>1197</th>\n",
       "      <td>59</td>\n",
       "      <td>69</td>\n",
       "      <td>80</td>\n",
       "      <td>19.079377</td>\n",
       "      <td>17.867549</td>\n",
       "      <td>8.165359</td>\n",
       "      <td>69.406191</td>\n",
       "    </tr>\n",
       "    <tr>\n",
       "      <th>1198</th>\n",
       "      <td>36</td>\n",
       "      <td>65</td>\n",
       "      <td>16</td>\n",
       "      <td>25.712698</td>\n",
       "      <td>64.112333</td>\n",
       "      <td>7.692014</td>\n",
       "      <td>50.170678</td>\n",
       "    </tr>\n",
       "    <tr>\n",
       "      <th>1199</th>\n",
       "      <td>111</td>\n",
       "      <td>6</td>\n",
       "      <td>53</td>\n",
       "      <td>26.493064</td>\n",
       "      <td>88.591431</td>\n",
       "      <td>6.313513</td>\n",
       "      <td>46.063822</td>\n",
       "    </tr>\n",
       "  </tbody>\n",
       "</table>\n",
       "<p>1200 rows × 7 columns</p>\n",
       "</div>"
      ],
      "text/plain": [
       "        n   p   k  temperature   humidity        ph    rainfall\n",
       "0      26  51  25    28.764890  52.627415  7.792508   55.216067\n",
       "1       4  59  25    27.685151  81.942686  6.227134   54.622433\n",
       "2      59  62  83    18.576659  19.220082  8.104396   72.949404\n",
       "3      76  44  17    20.416831  62.554248  5.855442   65.277985\n",
       "4      47  63  16    27.440033  67.104644  6.661871   72.506698\n",
       "...   ...  ..  ..          ...        ...       ...         ...\n",
       "1195   60  49  44    20.775761  84.497744  6.244841  240.081065\n",
       "1196   80  18  51    28.053807  91.817588  6.706053   20.765821\n",
       "1197   59  69  80    19.079377  17.867549  8.165359   69.406191\n",
       "1198   36  65  16    25.712698  64.112333  7.692014   50.170678\n",
       "1199  111   6  53    26.493064  88.591431  6.313513   46.063822\n",
       "\n",
       "[1200 rows x 7 columns]"
      ]
     },
     "execution_count": 4,
     "metadata": {},
     "output_type": "execute_result"
    }
   ],
   "source": [
    "import datetime\n",
    "batch_data = feature_view.get_batch_data()\n",
    "\n",
    "batch_data"
   ]
  },
  {
   "cell_type": "code",
   "execution_count": 5,
   "id": "089ec5b9",
   "metadata": {},
   "outputs": [],
   "source": [
    "predictions = model.predict(batch_data)"
   ]
  },
  {
   "cell_type": "code",
   "execution_count": 6,
   "id": "c1341396",
   "metadata": {},
   "outputs": [
    {
     "data": {
      "text/plain": [
       "array(['mothbeans', 'mungbean', 'chickpea', ..., 'chickpea', 'lentil',\n",
       "       'watermelon'], dtype=object)"
      ]
     },
     "execution_count": 6,
     "metadata": {},
     "output_type": "execute_result"
    }
   ],
   "source": [
    "predictions"
   ]
  },
  {
   "cell_type": "code",
   "execution_count": null,
   "id": "de74cb94",
   "metadata": {},
   "outputs": [],
   "source": []
  }
 ],
 "metadata": {
  "kernelspec": {
   "display_name": "Python 3 (ipykernel)",
   "language": "python",
   "name": "python3"
  },
  "language_info": {
   "codemirror_mode": {
    "name": "ipython",
    "version": 3
   },
   "file_extension": ".py",
   "mimetype": "text/x-python",
   "name": "python",
   "nbconvert_exporter": "python",
   "pygments_lexer": "ipython3",
   "version": "3.9.13"
  }
 },
 "nbformat": 4,
 "nbformat_minor": 5
}
