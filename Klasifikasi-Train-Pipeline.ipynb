{
 "cells": [
  {
   "cell_type": "code",
   "execution_count": 1,
   "id": "c11e92c8",
   "metadata": {},
   "outputs": [],
   "source": [
    "!pip install -U hopsworks --quie"
   ]
  },
  {
   "cell_type": "code",
   "execution_count": 2,
   "id": "9280ec2e",
   "metadata": {},
   "outputs": [],
   "source": [
    "import pandas as pd #Untuk memasukkan dataset ke dataframe\n",
    "from sklearn.tree import DecisionTreeClassifier #Memakai algoritma Decision Tree\n",
    "from sklearn.model_selection import train_test_split #untuk membagi data training dan data testing\n",
    "# Library dibawah untuk melihat akurasi dll\n",
    "from sklearn.metrics import confusion_matrix\n",
    "from sklearn.metrics import accuracy_score\n",
    "from sklearn.metrics import precision_score\n",
    "from sklearn.metrics import recall_score"
   ]
  },
  {
   "cell_type": "code",
   "execution_count": 3,
   "id": "5f84357c",
   "metadata": {},
   "outputs": [],
   "source": [
    "import hopsworks\n",
    "\n",
    "import os\n",
    "os.environ['CONDA_DLL_SEARCH_MODIFICATION_ENABLE'] = '1' #setting the env variable"
   ]
  },
  {
   "cell_type": "code",
   "execution_count": 4,
   "id": "fbccfce3",
   "metadata": {},
   "outputs": [
    {
     "name": "stdout",
     "output_type": "stream",
     "text": [
      "Connected. Call `.close()` to terminate connection gracefully.\n",
      "\n",
      "Logged in to project, explore it here https://c.app.hopsworks.ai:443/p/20697\n"
     ]
    },
    {
     "name": "stderr",
     "output_type": "stream",
     "text": [
      "DeprecationWarning: the imp module is deprecated in favour of importlib; see the module's documentation for alternative uses\n"
     ]
    },
    {
     "name": "stdout",
     "output_type": "stream",
     "text": [
      "Connected. Call `.close()` to terminate connection gracefully.\n"
     ]
    }
   ],
   "source": [
    "project = hopsworks.login()\n",
    "fs = project.get_feature_store()\n",
    "\n",
    "#aC4NKZxmGgbD2WbO.I7JjlGKs8ushdZsJn4xZpEAchkoG1sA5oySo5vQ4QX5isHrFpIzZhCPQlTRmb2PX"
   ]
  },
  {
   "cell_type": "code",
   "execution_count": 5,
   "id": "6f94d25d",
   "metadata": {},
   "outputs": [],
   "source": [
    "try: \n",
    "    feature_view = fs.get_feature_view(name=\"agriculture\", version=1)\n",
    "except:\n",
    "    bawang_fg = fs.get_feature_group(name=\"agriculture\", version=1)\n",
    "    query = bawang_fg.select_all()\n",
    "    feature_view = fs.create_feature_view(name=\"agriculture\",\n",
    "                                      version=1,\n",
    "                                      description=\"Read from agriculture dataset\",\n",
    "                                      labels=[\"label\"],\n",
    "                                      query=query)"
   ]
  },
  {
   "cell_type": "code",
   "execution_count": 6,
   "id": "3b13068f",
   "metadata": {},
   "outputs": [
    {
     "name": "stdout",
     "output_type": "stream",
     "text": [
      "2023-06-25 08:47:54,837 INFO: USE `salsa_coe_featurestore`\n"
     ]
    },
    {
     "name": "stderr",
     "output_type": "stream",
     "text": [
      "UserWarning: pandas only support SQLAlchemy connectable(engine/connection) ordatabase string URI or sqlite3 DBAPI2 connectionother DBAPI2 objects are not tested, please consider using SQLAlchemy\n"
     ]
    },
    {
     "name": "stdout",
     "output_type": "stream",
     "text": [
      "2023-06-25 08:47:55,574 INFO: SELECT `fg0`.`n` `n`, `fg0`.`p` `p`, `fg0`.`k` `k`, `fg0`.`temperature` `temperature`, `fg0`.`humidity` `humidity`, `fg0`.`ph` `ph`, `fg0`.`rainfall` `rainfall`, `fg0`.`label` `label`\n",
      "FROM `salsa_coe_featurestore`.`agriculture_1` `fg0`\n"
     ]
    },
    {
     "name": "stderr",
     "output_type": "stream",
     "text": [
      "VersionWarning: Incremented version to `4`.\n"
     ]
    }
   ],
   "source": [
    "#menunjukkan bahwa 20% testing, sementara 80% training.\n",
    "X_train,X_test,y_train,y_test = feature_view.train_test_split(test_size = 0.2)"
   ]
  },
  {
   "cell_type": "code",
   "execution_count": 7,
   "id": "3090e4ce",
   "metadata": {},
   "outputs": [
    {
     "data": {
      "text/html": [
       "<div>\n",
       "<style scoped>\n",
       "    .dataframe tbody tr th:only-of-type {\n",
       "        vertical-align: middle;\n",
       "    }\n",
       "\n",
       "    .dataframe tbody tr th {\n",
       "        vertical-align: top;\n",
       "    }\n",
       "\n",
       "    .dataframe thead th {\n",
       "        text-align: right;\n",
       "    }\n",
       "</style>\n",
       "<table border=\"1\" class=\"dataframe\">\n",
       "  <thead>\n",
       "    <tr style=\"text-align: right;\">\n",
       "      <th></th>\n",
       "      <th>n</th>\n",
       "      <th>p</th>\n",
       "      <th>k</th>\n",
       "      <th>temperature</th>\n",
       "      <th>humidity</th>\n",
       "      <th>ph</th>\n",
       "      <th>rainfall</th>\n",
       "    </tr>\n",
       "  </thead>\n",
       "  <tbody>\n",
       "    <tr>\n",
       "      <th>0</th>\n",
       "      <td>26</td>\n",
       "      <td>51</td>\n",
       "      <td>25</td>\n",
       "      <td>28.764890</td>\n",
       "      <td>52.627415</td>\n",
       "      <td>7.792508</td>\n",
       "      <td>55.216067</td>\n",
       "    </tr>\n",
       "    <tr>\n",
       "      <th>1</th>\n",
       "      <td>4</td>\n",
       "      <td>59</td>\n",
       "      <td>25</td>\n",
       "      <td>27.685151</td>\n",
       "      <td>81.942686</td>\n",
       "      <td>6.227134</td>\n",
       "      <td>54.622433</td>\n",
       "    </tr>\n",
       "    <tr>\n",
       "      <th>2</th>\n",
       "      <td>59</td>\n",
       "      <td>62</td>\n",
       "      <td>83</td>\n",
       "      <td>18.576659</td>\n",
       "      <td>19.220082</td>\n",
       "      <td>8.104396</td>\n",
       "      <td>72.949404</td>\n",
       "    </tr>\n",
       "    <tr>\n",
       "      <th>3</th>\n",
       "      <td>76</td>\n",
       "      <td>44</td>\n",
       "      <td>17</td>\n",
       "      <td>20.416831</td>\n",
       "      <td>62.554248</td>\n",
       "      <td>5.855442</td>\n",
       "      <td>65.277985</td>\n",
       "    </tr>\n",
       "    <tr>\n",
       "      <th>4</th>\n",
       "      <td>47</td>\n",
       "      <td>63</td>\n",
       "      <td>16</td>\n",
       "      <td>27.440033</td>\n",
       "      <td>67.104644</td>\n",
       "      <td>6.661871</td>\n",
       "      <td>72.506698</td>\n",
       "    </tr>\n",
       "    <tr>\n",
       "      <th>...</th>\n",
       "      <td>...</td>\n",
       "      <td>...</td>\n",
       "      <td>...</td>\n",
       "      <td>...</td>\n",
       "      <td>...</td>\n",
       "      <td>...</td>\n",
       "      <td>...</td>\n",
       "    </tr>\n",
       "    <tr>\n",
       "      <th>1195</th>\n",
       "      <td>60</td>\n",
       "      <td>49</td>\n",
       "      <td>44</td>\n",
       "      <td>20.775761</td>\n",
       "      <td>84.497744</td>\n",
       "      <td>6.244841</td>\n",
       "      <td>240.081065</td>\n",
       "    </tr>\n",
       "    <tr>\n",
       "      <th>1196</th>\n",
       "      <td>80</td>\n",
       "      <td>18</td>\n",
       "      <td>51</td>\n",
       "      <td>28.053807</td>\n",
       "      <td>91.817588</td>\n",
       "      <td>6.706053</td>\n",
       "      <td>20.765821</td>\n",
       "    </tr>\n",
       "    <tr>\n",
       "      <th>1197</th>\n",
       "      <td>59</td>\n",
       "      <td>69</td>\n",
       "      <td>80</td>\n",
       "      <td>19.079377</td>\n",
       "      <td>17.867549</td>\n",
       "      <td>8.165359</td>\n",
       "      <td>69.406191</td>\n",
       "    </tr>\n",
       "    <tr>\n",
       "      <th>1198</th>\n",
       "      <td>36</td>\n",
       "      <td>65</td>\n",
       "      <td>16</td>\n",
       "      <td>25.712698</td>\n",
       "      <td>64.112333</td>\n",
       "      <td>7.692014</td>\n",
       "      <td>50.170678</td>\n",
       "    </tr>\n",
       "    <tr>\n",
       "      <th>1199</th>\n",
       "      <td>111</td>\n",
       "      <td>6</td>\n",
       "      <td>53</td>\n",
       "      <td>26.493064</td>\n",
       "      <td>88.591431</td>\n",
       "      <td>6.313513</td>\n",
       "      <td>46.063822</td>\n",
       "    </tr>\n",
       "  </tbody>\n",
       "</table>\n",
       "<p>960 rows × 7 columns</p>\n",
       "</div>"
      ],
      "text/plain": [
       "        n   p   k  temperature   humidity        ph    rainfall\n",
       "0      26  51  25    28.764890  52.627415  7.792508   55.216067\n",
       "1       4  59  25    27.685151  81.942686  6.227134   54.622433\n",
       "2      59  62  83    18.576659  19.220082  8.104396   72.949404\n",
       "3      76  44  17    20.416831  62.554248  5.855442   65.277985\n",
       "4      47  63  16    27.440033  67.104644  6.661871   72.506698\n",
       "...   ...  ..  ..          ...        ...       ...         ...\n",
       "1195   60  49  44    20.775761  84.497744  6.244841  240.081065\n",
       "1196   80  18  51    28.053807  91.817588  6.706053   20.765821\n",
       "1197   59  69  80    19.079377  17.867549  8.165359   69.406191\n",
       "1198   36  65  16    25.712698  64.112333  7.692014   50.170678\n",
       "1199  111   6  53    26.493064  88.591431  6.313513   46.063822\n",
       "\n",
       "[960 rows x 7 columns]"
      ]
     },
     "execution_count": 7,
     "metadata": {},
     "output_type": "execute_result"
    }
   ],
   "source": [
    "X_train"
   ]
  },
  {
   "cell_type": "code",
   "execution_count": 8,
   "id": "fe4785e1",
   "metadata": {},
   "outputs": [],
   "source": [
    "### Klasifikasi menggunakan model algoritma Decision Tree"
   ]
  },
  {
   "cell_type": "code",
   "execution_count": 9,
   "id": "21b65f54",
   "metadata": {},
   "outputs": [],
   "source": [
    "from sklearn.pipeline import Pipeline\n",
    "from sklearn.tree import DecisionTreeClassifier\n",
    "from sklearn.model_selection import GridSearchCV\n",
    "import numpy as np\n",
    "\n",
    "classifier_dt = Pipeline([\n",
    "    ('model', DecisionTreeClassifier()),\n",
    "])"
   ]
  },
  {
   "cell_type": "code",
   "execution_count": 10,
   "id": "1026ef31",
   "metadata": {},
   "outputs": [],
   "source": [
    "parameters = {\n",
    "               \"model__max_depth\": np.arange(1,21),\n",
    "               \"model__min_samples_leaf\": np.arange(1,102,4),\n",
    "               \"model__min_samples_split\": np.arange(2, 11),\n",
    "               \"model__criterion\": ['gini','entropy'],\n",
    "               #\"model__max_features\": ['auto', 'sqrt', 'log2'],\n",
    "               \"model__random_state\" : [42]\n",
    "}"
   ]
  },
  {
   "cell_type": "code",
   "execution_count": 11,
   "id": "bedcb271",
   "metadata": {},
   "outputs": [],
   "source": [
    "model = GridSearchCV(classifier_dt, parameters, cv = 3, n_jobs=-1)"
   ]
  },
  {
   "cell_type": "code",
   "execution_count": 12,
   "id": "570268e9",
   "metadata": {},
   "outputs": [],
   "source": [
    "model.fit(X_train, y_train.values.ravel());"
   ]
  },
  {
   "cell_type": "code",
   "execution_count": 13,
   "id": "127ecb94",
   "metadata": {},
   "outputs": [
    {
     "name": "stdout",
     "output_type": "stream",
     "text": [
      "Accuracy Training set:  0.9947916666666666\n",
      "Accuracy Test set:  0.9875\n"
     ]
    }
   ],
   "source": [
    "ori_y_pred_dt_train = model.predict(X_train)\n",
    "ori_accuracy_dt_train = accuracy_score(y_train, ori_y_pred_dt_train)\n",
    "print(\"Accuracy Training set: \", ori_accuracy_dt_train)\n",
    "\n",
    "ori_y_pred_dt_test = model.predict(X_test)\n",
    "ori_accuracy_dt_test = accuracy_score(y_test, ori_y_pred_dt_test)\n",
    "print(\"Accuracy Test set: \", ori_accuracy_dt_test)"
   ]
  },
  {
   "cell_type": "code",
   "execution_count": 14,
   "id": "38d8322a",
   "metadata": {},
   "outputs": [
    {
     "name": "stdout",
     "output_type": "stream",
     "text": [
      "Recall Training set:  0.9947916666666666\n",
      "Recall Test set:  0.9875\n"
     ]
    }
   ],
   "source": [
    "ori_recall_dt_train = recall_score(average='weighted',y_true=y_train, y_pred=ori_y_pred_dt_train)\n",
    "print(\"Recall Training set: \", ori_recall_dt_train)\n",
    "\n",
    "ori_recall_dt_test = recall_score(average='weighted',y_true=y_test, y_pred=ori_y_pred_dt_test)\n",
    "print(\"Recall Test set: \", ori_recall_dt_test)"
   ]
  },
  {
   "cell_type": "code",
   "execution_count": 15,
   "id": "b7c948ac",
   "metadata": {},
   "outputs": [
    {
     "name": "stdout",
     "output_type": "stream",
     "text": [
      "Recall Training set:  0.9947916666666666\n",
      "Recall Test set:  0.9875\n"
     ]
    }
   ],
   "source": [
    "ori_recall_dt_train = recall_score(average='weighted',y_true=y_train, y_pred=ori_y_pred_dt_train)\n",
    "print(\"Recall Training set: \", ori_recall_dt_train)\n",
    "\n",
    "ori_recall_dt_test = recall_score(average='weighted',y_true=y_test, y_pred=ori_y_pred_dt_test)\n",
    "print(\"Recall Test set: \", ori_recall_dt_test)"
   ]
  },
  {
   "cell_type": "code",
   "execution_count": 16,
   "id": "16bd4146",
   "metadata": {},
   "outputs": [
    {
     "name": "stderr",
     "output_type": "stream",
     "text": [
      "DeprecationWarning: distutils Version classes are deprecated. Use packaging.version instead.\n",
      "DeprecationWarning: distutils Version classes are deprecated. Use packaging.version instead.\n"
     ]
    },
    {
     "data": {
      "image/png": "[encoded data removed]",
      "text/plain": [
       "<Figure size 640x480 with 2 Axes>"
      ]
     },
     "metadata": {},
     "output_type": "display_data"
    }
   ],
   "source": [
    "import seaborn as sns\n",
    "import matplotlib.pyplot as plt\n",
    "from sklearn.metrics import confusion_matrix\n",
    "sns.heatmap(confusion_matrix(y_test, ori_y_pred_dt_test), annot=True, cmap = 'viridis', fmt='.0f')\n",
    "plt.xlabel(\"Predicted values\", fontdict = {'size':14}, labelpad = 10)\n",
    "plt.ylabel(\"Actual values\"   , fontdict = {'size':14}, labelpad = 10)\n",
    "plt.title (\"Confusion Matrix\", fontdict = {'size':18}, pad = 20)\n",
    "plt.show()"
   ]
  },
  {
   "cell_type": "code",
   "execution_count": 20,
   "id": "3d86529b",
   "metadata": {},
   "outputs": [
    {
     "data": {
      "text/plain": [
       "array(['muskmelon', 'mungbean', 'watermelon', 'kidneybeans', 'chickpea',\n",
       "       'mothbeans', 'mothbeans', 'watermelon', 'blackgram', 'pigeonpeas',\n",
       "       'muskmelon', 'chickpea', 'blackgram', 'jute', 'jute', 'watermelon',\n",
       "       'kidneybeans', 'maize', 'rice', 'watermelon', 'jute', 'lentil',\n",
       "       'kidneybeans', 'rice', 'rice', 'blackgram', 'muskmelon', 'maize',\n",
       "       'blackgram', 'jute', 'blackgram', 'maize', 'lentil', 'jute',\n",
       "       'muskmelon', 'muskmelon', 'mothbeans', 'chickpea', 'blackgram',\n",
       "       'lentil', 'chickpea', 'maize', 'rice', 'blackgram', 'mothbeans',\n",
       "       'watermelon', 'muskmelon', 'chickpea', 'chickpea', 'lentil',\n",
       "       'mungbean', 'maize', 'pigeonpeas', 'maize', 'mungbean', 'mungbean',\n",
       "       'chickpea', 'kidneybeans', 'jute', 'lentil', 'watermelon',\n",
       "       'muskmelon', 'mothbeans', 'rice', 'pigeonpeas', 'watermelon',\n",
       "       'rice', 'watermelon', 'maize', 'watermelon', 'mungbean',\n",
       "       'watermelon', 'blackgram', 'jute', 'kidneybeans', 'blackgram',\n",
       "       'maize', 'jute', 'mothbeans', 'maize', 'blackgram', 'mothbeans',\n",
       "       'lentil', 'kidneybeans', 'pigeonpeas', 'rice', 'lentil', 'rice',\n",
       "       'jute', 'muskmelon', 'pigeonpeas', 'mothbeans', 'rice',\n",
       "       'kidneybeans', 'pigeonpeas', 'blackgram', 'lentil', 'blackgram',\n",
       "       'mothbeans', 'chickpea', 'maize', 'watermelon', 'mungbean',\n",
       "       'chickpea', 'mothbeans', 'jute', 'rice', 'kidneybeans',\n",
       "       'watermelon', 'kidneybeans', 'pigeonpeas', 'muskmelon',\n",
       "       'watermelon', 'watermelon', 'pigeonpeas', 'maize', 'rice',\n",
       "       'lentil', 'maize', 'chickpea', 'chickpea', 'lentil', 'maize',\n",
       "       'rice', 'chickpea', 'rice', 'mungbean', 'muskmelon', 'jute',\n",
       "       'mothbeans', 'jute', 'pigeonpeas', 'kidneybeans', 'jute', 'jute',\n",
       "       'rice', 'watermelon', 'mungbean', 'blackgram', 'watermelon',\n",
       "       'rice', 'blackgram', 'chickpea', 'muskmelon', 'lentil', 'rice',\n",
       "       'jute', 'jute', 'maize', 'kidneybeans', 'mungbean', 'watermelon',\n",
       "       'rice', 'chickpea', 'muskmelon', 'muskmelon', 'jute', 'blackgram',\n",
       "       'lentil', 'mothbeans', 'chickpea', 'maize', 'rice', 'mothbeans',\n",
       "       'mothbeans', 'blackgram', 'blackgram', 'jute', 'pigeonpeas',\n",
       "       'maize', 'chickpea', 'mothbeans', 'lentil', 'watermelon',\n",
       "       'pigeonpeas', 'rice', 'pigeonpeas', 'chickpea', 'chickpea',\n",
       "       'muskmelon', 'watermelon', 'watermelon', 'lentil', 'kidneybeans',\n",
       "       'mungbean', 'mungbean', 'chickpea', 'chickpea', 'lentil', 'rice',\n",
       "       'pigeonpeas', 'maize', 'muskmelon', 'pigeonpeas', 'mothbeans',\n",
       "       'mungbean', 'jute', 'pigeonpeas', 'lentil', 'jute', 'lentil',\n",
       "       'mothbeans', 'kidneybeans', 'watermelon', 'blackgram', 'mothbeans',\n",
       "       'mothbeans', 'muskmelon', 'lentil', 'kidneybeans', 'lentil',\n",
       "       'mothbeans', 'lentil', 'blackgram', 'watermelon', 'pigeonpeas',\n",
       "       'muskmelon', 'mothbeans', 'muskmelon', 'lentil', 'pigeonpeas',\n",
       "       'kidneybeans', 'jute', 'blackgram', 'watermelon', 'mungbean',\n",
       "       'mothbeans', 'muskmelon', 'mungbean', 'mungbean', 'pigeonpeas',\n",
       "       'mungbean', 'watermelon', 'jute', 'lentil', 'mothbeans',\n",
       "       'mothbeans', 'maize', 'pigeonpeas', 'watermelon'], dtype=object)"
      ]
     },
     "execution_count": 20,
     "metadata": {},
     "output_type": "execute_result"
    }
   ],
   "source": [
    "y_pred = model.predict(X_test)\n",
    "y_pred"
   ]
  },
  {
   "cell_type": "code",
   "execution_count": 21,
   "id": "dedfc07f",
   "metadata": {},
   "outputs": [
    {
     "name": "stdout",
     "output_type": "stream",
     "text": [
      "{'blackgram': {'precision': 1.0, 'recall': 0.9523809523809523, 'f1-score': 0.975609756097561, 'support': 21}, 'chickpea': {'precision': 1.0, 'recall': 1.0, 'f1-score': 1.0, 'support': 20}, 'jute': {'precision': 0.9545454545454546, 'recall': 1.0, 'f1-score': 0.9767441860465117, 'support': 21}, 'kidneybeans': {'precision': 1.0, 'recall': 1.0, 'f1-score': 1.0, 'support': 15}, 'lentil': {'precision': 0.9545454545454546, 'recall': 1.0, 'f1-score': 0.9767441860465117, 'support': 21}, 'maize': {'precision': 1.0, 'recall': 1.0, 'f1-score': 1.0, 'support': 18}, 'mothbeans': {'precision': 0.9583333333333334, 'recall': 0.9583333333333334, 'f1-score': 0.9583333333333334, 'support': 24}, 'mungbean': {'precision': 1.0, 'recall': 1.0, 'f1-score': 1.0, 'support': 16}, 'muskmelon': {'precision': 1.0, 'recall': 1.0, 'f1-score': 1.0, 'support': 19}, 'pigeonpeas': {'precision': 1.0, 'recall': 1.0, 'f1-score': 1.0, 'support': 19}, 'rice': {'precision': 1.0, 'recall': 0.9523809523809523, 'f1-score': 0.975609756097561, 'support': 21}, 'watermelon': {'precision': 1.0, 'recall': 1.0, 'f1-score': 1.0, 'support': 25}, 'accuracy': 0.9875, 'macro avg': {'precision': 0.9889520202020202, 'recall': 0.9885912698412699, 'f1-score': 0.9885867681351233, 'support': 240}, 'weighted avg': {'precision': 0.9878787878787879, 'recall': 0.9875, 'f1-score': 0.9874952732085461, 'support': 240}}\n"
     ]
    }
   ],
   "source": [
    "from sklearn.metrics import classification_report\n",
    "\n",
    "metrics = classification_report(y_test, y_pred, output_dict=True)\n",
    "print(metrics)"
   ]
  },
  {
   "cell_type": "code",
   "execution_count": 17,
   "id": "fc891f7b",
   "metadata": {},
   "outputs": [
    {
     "name": "stdout",
     "output_type": "stream",
     "text": [
      "model__criterion: 'gini'\n",
      "model__max_depth: 9\n",
      "model__min_samples_leaf: 1\n",
      "model__min_samples_split: 2\n",
      "model__random_state: 42\n"
     ]
    }
   ],
   "source": [
    "for param_name in sorted(parameters.keys()):\n",
    "    print(\"%s: %r\" % (param_name, model.best_params_[param_name]))"
   ]
  },
  {
   "cell_type": "code",
   "execution_count": 23,
   "id": "03bf0720",
   "metadata": {},
   "outputs": [
    {
     "name": "stdout",
     "output_type": "stream",
     "text": [
      "Connection closed.\n",
      "Connected. Call `.close()` to terminate connection gracefully.\n",
      "\n",
      "Logged in to project, explore it here https://c.app.hopsworks.ai:443/p/20697\n",
      "Connected. Call `.close()` to terminate connection gracefully.\n"
     ]
    },
    {
     "data": {
      "application/vnd.jupyter.widget-view+json": {
       "model_id": "dc6b133b314f493aa2d212da2b10b099",
       "version_major": 2,
       "version_minor": 0
      },
      "text/plain": [
       "  0%|          | 0/6 [00:00<?, ?it/s]"
      ]
     },
     "metadata": {},
     "output_type": "display_data"
    },
    {
     "name": "stdout",
     "output_type": "stream",
     "text": [
      "Model created, explore it at https://c.app.hopsworks.ai:443/p/20697/models/agriculture/1\n"
     ]
    },
    {
     "data": {
      "text/plain": [
       "Model(name: 'agriculture', version: 1)"
      ]
     },
     "execution_count": 23,
     "metadata": {},
     "output_type": "execute_result"
    }
   ],
   "source": [
    "from hsml.schema import Schema\n",
    "from hsml.model_schema import ModelSchema\n",
    "import os\n",
    "import joblib\n",
    "import hopsworks\n",
    "import shutil\n",
    "\n",
    "project =  hopsworks.login()\n",
    "mr = project.get_model_registry()\n",
    "\n",
    "# will be saved to the model registry\n",
    "model_dir=\"agriculture_model\"\n",
    "if os.path.isdir(model_dir) == False:\n",
    "    os.mkdir(model_dir)\n",
    "joblib.dump(model, model_dir + \"/agriculture_model.pkl\")\n",
    "##shutil.copyfile(\"assets/confusion_matrix.png\", model_dir + \"/confusion_matrix.png\")\n",
    "\n",
    "input_example = X_train.sample()\n",
    "input_schema = Schema(X_train)\n",
    "output_schema = Schema(y_train)\n",
    "model_schema = ModelSchema(input_schema, output_schema)\n",
    "\n",
    "agriculture_model = mr.python.create_model(\n",
    "    version=1,\n",
    "    name=\"agriculture\", \n",
    "    metrics={\"accuracy\" : metrics['accuracy']},\n",
    "    model_schema=model_schema,\n",
    "    input_example=input_example, \n",
    "    description=\"Agriculture Predictor\")\n",
    "\n",
    "agriculture_model.save(model_dir)"
   ]
  },
  {
   "cell_type": "code",
   "execution_count": null,
   "id": "efed4791",
   "metadata": {},
   "outputs": [],
   "source": []
  }
 ],
 "metadata": {
  "kernelspec": {
   "display_name": "Python 3 (ipykernel)",
   "language": "python",
   "name": "python3"
  },
  "language_info": {
   "codemirror_mode": {
    "name": "ipython",
    "version": 3
   },
   "file_extension": ".py",
   "mimetype": "text/x-python",
   "name": "python",
   "nbconvert_exporter": "python",
   "pygments_lexer": "ipython3",
   "version": "3.9.13"
  }
 },
 "nbformat": 4,
 "nbformat_minor": 5
}
